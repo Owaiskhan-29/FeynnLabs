{
 "cells": [
  {
   "cell_type": "code",
   "execution_count": 84,
   "id": "4907ba5a",
   "metadata": {},
   "outputs": [],
   "source": [
    "#Impoting modules \n",
    "import pandas as pd\n",
    "import numpy as np\n",
    "import seaborn as sns\n",
    "import matplotlib.pyplot as plt\n",
    "from sklearn.preprocessing import LabelEncoder\n",
    "from sklearn.model_selection import train_test_split\n",
    "from sklearn.ensemble import RandomForestClassifier, GradientBoostingClassifier\n",
    "from sklearn.linear_model import LogisticRegression\n",
    "from sklearn.neighbors import KNeighborsClassifier\n",
    "from sklearn.metrics import classification_report, accuracy_score\n"
   ]
  },
  {
   "cell_type": "code",
   "execution_count": 81,
   "id": "70e73cb2",
   "metadata": {},
   "outputs": [],
   "source": [
    "data = pd.read_excel(\"ayurvedic_data_with_outliers_missing.xlsx\")"
   ]
  },
  {
   "cell_type": "code",
   "execution_count": 82,
   "id": "fb3cba95",
   "metadata": {},
   "outputs": [
    {
     "data": {
      "text/html": [
       "<div>\n",
       "<style scoped>\n",
       "    .dataframe tbody tr th:only-of-type {\n",
       "        vertical-align: middle;\n",
       "    }\n",
       "\n",
       "    .dataframe tbody tr th {\n",
       "        vertical-align: top;\n",
       "    }\n",
       "\n",
       "    .dataframe thead th {\n",
       "        text-align: right;\n",
       "    }\n",
       "</style>\n",
       "<table border=\"1\" class=\"dataframe\">\n",
       "  <thead>\n",
       "    <tr style=\"text-align: right;\">\n",
       "      <th></th>\n",
       "      <th>Symptom1</th>\n",
       "      <th>Symptom2</th>\n",
       "      <th>Symptom3</th>\n",
       "      <th>Product</th>\n",
       "      <th>Age</th>\n",
       "      <th>Gender</th>\n",
       "      <th>Duration of Symptoms (days)</th>\n",
       "      <th>Severity</th>\n",
       "      <th>Dosage (mg)</th>\n",
       "      <th>Frequency (times per day)</th>\n",
       "    </tr>\n",
       "  </thead>\n",
       "  <tbody>\n",
       "    <tr>\n",
       "      <th>0</th>\n",
       "      <td>Stomach Pain</td>\n",
       "      <td>Sore Throat</td>\n",
       "      <td>Stomach Pain</td>\n",
       "      <td>Ginger</td>\n",
       "      <td>42</td>\n",
       "      <td>Male</td>\n",
       "      <td>5</td>\n",
       "      <td>Moderate</td>\n",
       "      <td>183</td>\n",
       "      <td>1.0</td>\n",
       "    </tr>\n",
       "    <tr>\n",
       "      <th>1</th>\n",
       "      <td>Hair Loss</td>\n",
       "      <td>Nausea</td>\n",
       "      <td>Anxiety</td>\n",
       "      <td>Triphala</td>\n",
       "      <td>50</td>\n",
       "      <td>Male</td>\n",
       "      <td>25</td>\n",
       "      <td>Moderate</td>\n",
       "      <td>229</td>\n",
       "      <td>3.0</td>\n",
       "    </tr>\n",
       "    <tr>\n",
       "      <th>2</th>\n",
       "      <td>Depression</td>\n",
       "      <td>Back Pain</td>\n",
       "      <td>Hair Loss</td>\n",
       "      <td>Tulsi</td>\n",
       "      <td>64</td>\n",
       "      <td>Male</td>\n",
       "      <td>16</td>\n",
       "      <td>Mild</td>\n",
       "      <td>842</td>\n",
       "      <td>3.0</td>\n",
       "    </tr>\n",
       "    <tr>\n",
       "      <th>3</th>\n",
       "      <td>Cold</td>\n",
       "      <td>Hair Loss</td>\n",
       "      <td>Weight Gain</td>\n",
       "      <td>Shatavari</td>\n",
       "      <td>57</td>\n",
       "      <td>Male</td>\n",
       "      <td>1</td>\n",
       "      <td>Mild</td>\n",
       "      <td>937</td>\n",
       "      <td>2.0</td>\n",
       "    </tr>\n",
       "    <tr>\n",
       "      <th>4</th>\n",
       "      <td>Back Pain</td>\n",
       "      <td>Cough</td>\n",
       "      <td>Depression</td>\n",
       "      <td>Bhringraj</td>\n",
       "      <td>60</td>\n",
       "      <td>Female</td>\n",
       "      <td>21</td>\n",
       "      <td>Severe</td>\n",
       "      <td>244</td>\n",
       "      <td>2.0</td>\n",
       "    </tr>\n",
       "  </tbody>\n",
       "</table>\n",
       "</div>"
      ],
      "text/plain": [
       "       Symptom1     Symptom2      Symptom3    Product  Age  Gender  \\\n",
       "0  Stomach Pain  Sore Throat  Stomach Pain     Ginger   42    Male   \n",
       "1     Hair Loss       Nausea       Anxiety   Triphala   50    Male   \n",
       "2    Depression    Back Pain     Hair Loss      Tulsi   64    Male   \n",
       "3          Cold    Hair Loss   Weight Gain  Shatavari   57    Male   \n",
       "4     Back Pain        Cough    Depression  Bhringraj   60  Female   \n",
       "\n",
       "   Duration of Symptoms (days)  Severity  Dosage (mg)  \\\n",
       "0                            5  Moderate          183   \n",
       "1                           25  Moderate          229   \n",
       "2                           16      Mild          842   \n",
       "3                            1      Mild          937   \n",
       "4                           21    Severe          244   \n",
       "\n",
       "   Frequency (times per day)  \n",
       "0                        1.0  \n",
       "1                        3.0  \n",
       "2                        3.0  \n",
       "3                        2.0  \n",
       "4                        2.0  "
      ]
     },
     "execution_count": 82,
     "metadata": {},
     "output_type": "execute_result"
    }
   ],
   "source": [
    "data.head()"
   ]
  },
  {
   "cell_type": "code",
   "execution_count": 83,
   "id": "abd889f8",
   "metadata": {},
   "outputs": [
    {
     "name": "stdout",
     "output_type": "stream",
     "text": [
      "<class 'pandas.core.frame.DataFrame'>\n",
      "RangeIndex: 250 entries, 0 to 249\n",
      "Data columns (total 10 columns):\n",
      " #   Column                       Non-Null Count  Dtype  \n",
      "---  ------                       --------------  -----  \n",
      " 0   Symptom1                     250 non-null    object \n",
      " 1   Symptom2                     250 non-null    object \n",
      " 2   Symptom3                     250 non-null    object \n",
      " 3   Product                      250 non-null    object \n",
      " 4   Age                          250 non-null    int64  \n",
      " 5   Gender                       250 non-null    object \n",
      " 6   Duration of Symptoms (days)  250 non-null    int64  \n",
      " 7   Severity                     245 non-null    object \n",
      " 8   Dosage (mg)                  250 non-null    int64  \n",
      " 9   Frequency (times per day)    245 non-null    float64\n",
      "dtypes: float64(1), int64(3), object(6)\n",
      "memory usage: 19.7+ KB\n"
     ]
    }
   ],
   "source": [
    "data.info() # Summary of the dataset"
   ]
  },
  {
   "cell_type": "markdown",
   "id": "a23140d9",
   "metadata": {},
   "source": [
    "## Data Preprocessing"
   ]
  },
  {
   "cell_type": "code",
   "execution_count": 57,
   "id": "ac89e4c3",
   "metadata": {},
   "outputs": [],
   "source": [
    "# Handling Missing Values\n",
    "data['Severity'].fillna(data['Severity'].mode()[0], inplace=True)\n",
    "data['Frequency (times per day)'].fillna(data['Frequency (times per day)'].mode()[0], inplace=True)\n"
   ]
  },
  {
   "cell_type": "code",
   "execution_count": 59,
   "id": "05e0da4e",
   "metadata": {},
   "outputs": [],
   "source": [
    "# Handling Outliers\n",
    "Q1_age = data['Age'].quantile(0.25)\n",
    "Q3_age = data['Age'].quantile(0.75)\n",
    "IQR_age = Q3_age - Q1_age\n",
    "upper_limit_age = Q3_age + 1.5 * IQR_age\n",
    "data['Age'] = np.where(data['Age'] > upper_limit_age, upper_limit_age, data['Age'])"
   ]
  },
  {
   "cell_type": "code",
   "execution_count": 60,
   "id": "7744482c",
   "metadata": {},
   "outputs": [],
   "source": [
    "Q1_dosage = data['Dosage (mg)'].quantile(0.25)\n",
    "Q3_dosage = data['Dosage (mg)'].quantile(0.75)\n",
    "IQR_dosage = Q3_dosage - Q1_dosage\n",
    "upper_limit_dosage = Q3_dosage + 1.5 * IQR_dosage\n",
    "data['Dosage (mg)'] = np.where(data['Dosage (mg)'] > upper_limit_dosage, upper_limit_dosage, data['Dosage (mg)'])\n"
   ]
  },
  {
   "cell_type": "code",
   "execution_count": 62,
   "id": "95412b75",
   "metadata": {},
   "outputs": [],
   "source": [
    "# Encoding Categorical Variables\n",
    "data = pd.get_dummies(data, columns=['Symptom1', 'Symptom2', 'Symptom3', 'Gender', 'Severity'], drop_first=True)\n",
    "le = LabelEncoder()\n",
    "data['Product'] = le.fit_transform(data['Product'])\n"
   ]
  },
  {
   "cell_type": "code",
   "execution_count": 63,
   "id": "7cb23fea",
   "metadata": {},
   "outputs": [],
   "source": [
    "# Feature Selection\n",
    "X = data.drop('Product', axis=1)\n",
    "y = data['Product']\n",
    "feature_names = X.columns"
   ]
  },
  {
   "cell_type": "code",
   "execution_count": 64,
   "id": "454f28cc",
   "metadata": {},
   "outputs": [
    {
     "data": {
      "text/plain": [
       "67"
      ]
     },
     "execution_count": 64,
     "metadata": {},
     "output_type": "execute_result"
    }
   ],
   "source": [
    "len(feature_names)"
   ]
  },
  {
   "cell_type": "code",
   "execution_count": 65,
   "id": "07e67e21",
   "metadata": {},
   "outputs": [],
   "source": [
    "# Convert to numpy arrays\n",
    "X = X.to_numpy()\n",
    "y = y.to_numpy()"
   ]
  },
  {
   "cell_type": "markdown",
   "id": "80602941",
   "metadata": {},
   "source": [
    "## Model Building and Evaluation"
   ]
  },
  {
   "cell_type": "code",
   "execution_count": 66,
   "id": "be39cded",
   "metadata": {},
   "outputs": [],
   "source": [
    "# Split the data into training and testing sets\n",
    "X_train, X_test, y_train, y_test = train_test_split(X, y, test_size=0.2, random_state=42)"
   ]
  },
  {
   "cell_type": "code",
   "execution_count": 67,
   "id": "f6ffd06a",
   "metadata": {},
   "outputs": [],
   "source": [
    "models = {\n",
    "    'RandomForest': RandomForestClassifier(n_estimators=100, random_state=42),\n",
    "    'LogisticRegression': LogisticRegression(max_iter=1000, random_state=42),\n",
    "    'KNN': KNeighborsClassifier(n_neighbors=5),\n",
    "    'GradientBoosting': GradientBoostingClassifier(random_state=42)\n",
    "}"
   ]
  },
  {
   "cell_type": "code",
   "execution_count": 68,
   "id": "23ff13fe",
   "metadata": {},
   "outputs": [],
   "source": [
    "# Model Selection\n",
    "best_model = None\n",
    "best_accuracy = 0\n",
    "best_model_name = ''"
   ]
  },
  {
   "cell_type": "code",
   "execution_count": 69,
   "id": "2c2ecfe1",
   "metadata": {},
   "outputs": [
    {
     "name": "stdout",
     "output_type": "stream",
     "text": [
      "Accuracy for RandomForest: 0.04\n"
     ]
    },
    {
     "name": "stderr",
     "output_type": "stream",
     "text": [
      "C:\\Users\\owais\\anaconda3\\Lib\\site-packages\\sklearn\\linear_model\\_logistic.py:460: ConvergenceWarning: lbfgs failed to converge (status=1):\n",
      "STOP: TOTAL NO. of ITERATIONS REACHED LIMIT.\n",
      "\n",
      "Increase the number of iterations (max_iter) or scale the data as shown in:\n",
      "    https://scikit-learn.org/stable/modules/preprocessing.html\n",
      "Please also refer to the documentation for alternative solver options:\n",
      "    https://scikit-learn.org/stable/modules/linear_model.html#logistic-regression\n",
      "  n_iter_i = _check_optimize_result(\n"
     ]
    },
    {
     "name": "stdout",
     "output_type": "stream",
     "text": [
      "Accuracy for LogisticRegression: 0.06\n",
      "Accuracy for KNN: 0.06\n",
      "Accuracy for GradientBoosting: 0.02\n"
     ]
    }
   ],
   "source": [
    "for model_name, model in models.items():\n",
    "    model.fit(X_train, y_train)\n",
    "    y_pred = model.predict(X_test)\n",
    "    accuracy = accuracy_score(y_test, y_pred)\n",
    "    print(f'Accuracy for {model_name}: {accuracy}')\n",
    "    if accuracy > best_accuracy:\n",
    "        best_accuracy = accuracy\n",
    "        best_model = model\n",
    "        best_model_name = model_name\n",
    "        \n",
    "        "
   ]
  },
  {
   "cell_type": "code",
   "execution_count": 70,
   "id": "a2774e01",
   "metadata": {},
   "outputs": [
    {
     "name": "stdout",
     "output_type": "stream",
     "text": [
      "Best Model: LogisticRegression with Accuracy: 0.06\n"
     ]
    }
   ],
   "source": [
    "print(f'Best Model: {best_model_name} with Accuracy: {best_accuracy}')"
   ]
  },
  {
   "cell_type": "code",
   "execution_count": 71,
   "id": "86bd1529",
   "metadata": {},
   "outputs": [
    {
     "name": "stdout",
     "output_type": "stream",
     "text": [
      "              precision    recall  f1-score   support\n",
      "\n",
      "           0       0.00      0.00      0.00         3\n",
      "           1       0.00      0.00      0.00         2\n",
      "           2       0.17      0.33      0.22         3\n",
      "           3       0.25      1.00      0.40         1\n",
      "           4       0.00      0.00      0.00         1\n",
      "           5       0.00      0.00      0.00         4\n",
      "           6       0.00      0.00      0.00         0\n",
      "           7       0.00      0.00      0.00         4\n",
      "           8       0.00      0.00      0.00         1\n",
      "           9       0.00      0.00      0.00         4\n",
      "          10       0.50      0.50      0.50         2\n",
      "          11       0.00      0.00      0.00         7\n",
      "          12       0.00      0.00      0.00         4\n",
      "          13       0.00      0.00      0.00         3\n",
      "          14       0.00      0.00      0.00         3\n",
      "          16       0.00      0.00      0.00         2\n",
      "          17       0.00      0.00      0.00         1\n",
      "          18       0.00      0.00      0.00         4\n",
      "          19       0.00      0.00      0.00         1\n",
      "\n",
      "    accuracy                           0.06        50\n",
      "   macro avg       0.05      0.10      0.06        50\n",
      "weighted avg       0.04      0.06      0.04        50\n",
      "\n"
     ]
    },
    {
     "name": "stderr",
     "output_type": "stream",
     "text": [
      "C:\\Users\\owais\\anaconda3\\Lib\\site-packages\\sklearn\\metrics\\_classification.py:1469: UndefinedMetricWarning: Precision and F-score are ill-defined and being set to 0.0 in labels with no predicted samples. Use `zero_division` parameter to control this behavior.\n",
      "  _warn_prf(average, modifier, msg_start, len(result))\n",
      "C:\\Users\\owais\\anaconda3\\Lib\\site-packages\\sklearn\\metrics\\_classification.py:1469: UndefinedMetricWarning: Recall and F-score are ill-defined and being set to 0.0 in labels with no true samples. Use `zero_division` parameter to control this behavior.\n",
      "  _warn_prf(average, modifier, msg_start, len(result))\n",
      "C:\\Users\\owais\\anaconda3\\Lib\\site-packages\\sklearn\\metrics\\_classification.py:1469: UndefinedMetricWarning: Precision and F-score are ill-defined and being set to 0.0 in labels with no predicted samples. Use `zero_division` parameter to control this behavior.\n",
      "  _warn_prf(average, modifier, msg_start, len(result))\n",
      "C:\\Users\\owais\\anaconda3\\Lib\\site-packages\\sklearn\\metrics\\_classification.py:1469: UndefinedMetricWarning: Recall and F-score are ill-defined and being set to 0.0 in labels with no true samples. Use `zero_division` parameter to control this behavior.\n",
      "  _warn_prf(average, modifier, msg_start, len(result))\n",
      "C:\\Users\\owais\\anaconda3\\Lib\\site-packages\\sklearn\\metrics\\_classification.py:1469: UndefinedMetricWarning: Precision and F-score are ill-defined and being set to 0.0 in labels with no predicted samples. Use `zero_division` parameter to control this behavior.\n",
      "  _warn_prf(average, modifier, msg_start, len(result))\n",
      "C:\\Users\\owais\\anaconda3\\Lib\\site-packages\\sklearn\\metrics\\_classification.py:1469: UndefinedMetricWarning: Recall and F-score are ill-defined and being set to 0.0 in labels with no true samples. Use `zero_division` parameter to control this behavior.\n",
      "  _warn_prf(average, modifier, msg_start, len(result))\n"
     ]
    }
   ],
   "source": [
    "print(classification_report(y_test, best_model.predict(X_test)))"
   ]
  },
  {
   "cell_type": "markdown",
   "id": "77754669",
   "metadata": {},
   "source": [
    "## Example prediction"
   ]
  },
  {
   "cell_type": "code",
   "execution_count": 72,
   "id": "afb08942",
   "metadata": {},
   "outputs": [],
   "source": [
    "# Example prediction\n",
    "example_symptoms = {\n",
    "    'Age': [30],\n",
    "    'Frequency (times per day)': [2],\n",
    "    'Dosage (mg)': [100],\n",
    "    'Symptom1_Headache': [1],\n",
    "    'Symptom1_Fever': [0],\n",
    "    'Symptom1_Cough': [0],\n",
    "    'Symptom2_Nausea': [0],\n",
    "    'Symptom2_Vomiting': [0],\n",
    "    'Symptom2_None': [1],\n",
    "    'Symptom3_Dizziness': [0],\n",
    "    'Symptom3_Fatigue': [1],\n",
    "    'Symptom3_None': [0],\n",
    "    'Gender_Male': [0],\n",
    "    'Gender_Female': [1],\n",
    "    'Severity_Mild': [1],\n",
    "    'Severity_Severe': [0]\n",
    "}\n"
   ]
  },
  {
   "cell_type": "code",
   "execution_count": 76,
   "id": "28f03610",
   "metadata": {},
   "outputs": [],
   "source": [
    "example_df = pd.DataFrame(example_symptoms)"
   ]
  },
  {
   "cell_type": "code",
   "execution_count": 77,
   "id": "80d0ba18",
   "metadata": {},
   "outputs": [],
   "source": [
    "for col in feature_names:\n",
    "    if col not in example_df.columns:\n",
    "        example_df[col] = 0\n",
    "\n",
    "\n",
    "example_df = example_df[feature_names]"
   ]
  },
  {
   "cell_type": "code",
   "execution_count": 78,
   "id": "e956096a",
   "metadata": {},
   "outputs": [
    {
     "data": {
      "text/html": [
       "<div>\n",
       "<style scoped>\n",
       "    .dataframe tbody tr th:only-of-type {\n",
       "        vertical-align: middle;\n",
       "    }\n",
       "\n",
       "    .dataframe tbody tr th {\n",
       "        vertical-align: top;\n",
       "    }\n",
       "\n",
       "    .dataframe thead th {\n",
       "        text-align: right;\n",
       "    }\n",
       "</style>\n",
       "<table border=\"1\" class=\"dataframe\">\n",
       "  <thead>\n",
       "    <tr style=\"text-align: right;\">\n",
       "      <th></th>\n",
       "      <th>Age</th>\n",
       "      <th>Duration of Symptoms (days)</th>\n",
       "      <th>Dosage (mg)</th>\n",
       "      <th>Frequency (times per day)</th>\n",
       "      <th>Symptom1_Back Pain</th>\n",
       "      <th>Symptom1_Cold</th>\n",
       "      <th>Symptom1_Constipation</th>\n",
       "      <th>Symptom1_Cough</th>\n",
       "      <th>Symptom1_Depression</th>\n",
       "      <th>Symptom1_Diarrhea</th>\n",
       "      <th>...</th>\n",
       "      <th>Symptom3_Joint Pain</th>\n",
       "      <th>Symptom3_Nausea</th>\n",
       "      <th>Symptom3_Skin Rash</th>\n",
       "      <th>Symptom3_Sore Throat</th>\n",
       "      <th>Symptom3_Stomach Pain</th>\n",
       "      <th>Symptom3_Weight Gain</th>\n",
       "      <th>Symptom3_Weight Loss</th>\n",
       "      <th>Gender_Male</th>\n",
       "      <th>Severity_Moderate</th>\n",
       "      <th>Severity_Severe</th>\n",
       "    </tr>\n",
       "  </thead>\n",
       "  <tbody>\n",
       "    <tr>\n",
       "      <th>0</th>\n",
       "      <td>30</td>\n",
       "      <td>0</td>\n",
       "      <td>100</td>\n",
       "      <td>2</td>\n",
       "      <td>0</td>\n",
       "      <td>0</td>\n",
       "      <td>0</td>\n",
       "      <td>0</td>\n",
       "      <td>0</td>\n",
       "      <td>0</td>\n",
       "      <td>...</td>\n",
       "      <td>0</td>\n",
       "      <td>0</td>\n",
       "      <td>0</td>\n",
       "      <td>0</td>\n",
       "      <td>0</td>\n",
       "      <td>0</td>\n",
       "      <td>0</td>\n",
       "      <td>0</td>\n",
       "      <td>0</td>\n",
       "      <td>0</td>\n",
       "    </tr>\n",
       "  </tbody>\n",
       "</table>\n",
       "<p>1 rows × 67 columns</p>\n",
       "</div>"
      ],
      "text/plain": [
       "   Age  Duration of Symptoms (days)  Dosage (mg)  Frequency (times per day)  \\\n",
       "0   30                            0          100                          2   \n",
       "\n",
       "   Symptom1_Back Pain  Symptom1_Cold  Symptom1_Constipation  Symptom1_Cough  \\\n",
       "0                   0              0                      0               0   \n",
       "\n",
       "   Symptom1_Depression  Symptom1_Diarrhea  ...  Symptom3_Joint Pain  \\\n",
       "0                    0                  0  ...                    0   \n",
       "\n",
       "   Symptom3_Nausea  Symptom3_Skin Rash  Symptom3_Sore Throat  \\\n",
       "0                0                   0                     0   \n",
       "\n",
       "   Symptom3_Stomach Pain  Symptom3_Weight Gain  Symptom3_Weight Loss  \\\n",
       "0                      0                     0                     0   \n",
       "\n",
       "   Gender_Male  Severity_Moderate  Severity_Severe  \n",
       "0            0                  0                0  \n",
       "\n",
       "[1 rows x 67 columns]"
      ]
     },
     "execution_count": 78,
     "metadata": {},
     "output_type": "execute_result"
    }
   ],
   "source": [
    "example_df "
   ]
  },
  {
   "cell_type": "code",
   "execution_count": 79,
   "id": "5af25692",
   "metadata": {},
   "outputs": [
    {
     "name": "stdout",
     "output_type": "stream",
     "text": [
      "Predicted Product: Brahmi\n"
     ]
    }
   ],
   "source": [
    "# Convert example to numpy array\n",
    "example_df = example_df.to_numpy()\n",
    "example_prediction = best_model.predict(example_df)\n",
    "example_prediction = le.inverse_transform(example_prediction)\n",
    "print(f'Predicted Product: {example_prediction[0]}')"
   ]
  },
  {
   "cell_type": "code",
   "execution_count": null,
   "id": "9d779a77",
   "metadata": {},
   "outputs": [],
   "source": []
  }
 ],
 "metadata": {
  "kernelspec": {
   "display_name": "Python 3 (ipykernel)",
   "language": "python",
   "name": "python3"
  },
  "language_info": {
   "codemirror_mode": {
    "name": "ipython",
    "version": 3
   },
   "file_extension": ".py",
   "mimetype": "text/x-python",
   "name": "python",
   "nbconvert_exporter": "python",
   "pygments_lexer": "ipython3",
   "version": "3.11.5"
  }
 },
 "nbformat": 4,
 "nbformat_minor": 5
}
